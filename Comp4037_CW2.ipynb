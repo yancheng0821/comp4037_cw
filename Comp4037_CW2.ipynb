{
 "cells": [
  {
   "cell_type": "code",
   "execution_count": 3,
   "id": "initial_id",
   "metadata": {
    "collapsed": true,
    "ExecuteTime": {
     "end_time": "2024-03-15T21:43:57.897305Z",
     "start_time": "2024-03-15T21:43:56.324694Z"
    }
   },
   "outputs": [
    {
     "name": "stdout",
     "output_type": "stream",
     "text": [
      "      Year  Death_Rate     Country\n",
      "3409  1751    0.210769      Sweden\n",
      "3410  1752    0.079298      Sweden\n",
      "3411  1753    0.149356      Sweden\n",
      "3412  1754    0.099603      Sweden\n",
      "3413  1755    0.093092      Sweden\n",
      "...    ...         ...         ...\n",
      "82    2022    0.101269    Portugal\n",
      "520   2022    0.092552     Belgium\n",
      "909   2022    0.154498      Norway\n",
      "2928  2022    0.116744  Luxembourg\n",
      "3117  2023    0.101384     Denmark\n",
      "\n",
      "[4896 rows x 3 columns]\n"
     ]
    }
   ],
   "source": [
    "import os\n",
    "import pandas as pd\n",
    "\n",
    "\n",
    "folder_path = 'death_rates/Mx_1x1/'\n",
    "file_names = os.listdir(folder_path)\n",
    "\n",
    "all_data = []\n",
    "\n",
    "# Loop through all files in the folder\n",
    "for file_name in file_names:\n",
    "    file_path = os.path.join(folder_path, file_name)\n",
    "    \n",
    "    with open(file_path, 'r') as file:\n",
    "        # get country name in the first line\n",
    "        country = file.readline().strip().split(',')[0]\n",
    "        \n",
    "    # skip first 3 rows to remove the unuseful information\n",
    "    df = pd.read_csv(file_path, delim_whitespace=True, skiprows=3, \n",
    "                     names=['Year', 'Age', 'Female', 'Male', 'Total'])\n",
    "    # Convert the string of the total column to a number\n",
    "    df['Total'] = pd.to_numeric(df['Total'], errors='coerce')\n",
    "    df.dropna(subset=['Total'], inplace=True)\n",
    "    \n",
    "    # get average death rate for each year\n",
    "    avg_death_rate = df.groupby('Year')['Total'].mean().reset_index()\n",
    "    # add country column\n",
    "    avg_death_rate['Country'] = country\n",
    "    # final file header\n",
    "    avg_death_rate.columns = ['Year', 'Death_Rate', 'Country']\n",
    "    all_data.extend(avg_death_rate.to_dict('records'))\n",
    "\n",
    "# to DataFrame\n",
    "data = pd.DataFrame(all_data)\n",
    "# sort by year\n",
    "data.sort_values(by=['Year'], inplace=True)\n",
    "# save to csv\n",
    "data.to_csv('clean_data.csv', index=False)"
   ]
  },
  {
   "cell_type": "code",
   "outputs": [],
   "source": [],
   "metadata": {
    "collapsed": false
   },
   "id": "e2dcbc1dffd0b01c"
  }
 ],
 "metadata": {
  "kernelspec": {
   "display_name": "Python 3",
   "language": "python",
   "name": "python3"
  },
  "language_info": {
   "codemirror_mode": {
    "name": "ipython",
    "version": 2
   },
   "file_extension": ".py",
   "mimetype": "text/x-python",
   "name": "python",
   "nbconvert_exporter": "python",
   "pygments_lexer": "ipython2",
   "version": "2.7.6"
  }
 },
 "nbformat": 4,
 "nbformat_minor": 5
}
