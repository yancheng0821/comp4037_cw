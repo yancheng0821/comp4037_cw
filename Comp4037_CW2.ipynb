{
 "cells": [
  {
   "cell_type": "code",
   "execution_count": 1,
   "id": "initial_id",
   "metadata": {
    "collapsed": true,
    "ExecuteTime": {
     "end_time": "2024-03-15T21:57:14.244910Z",
     "start_time": "2024-03-15T21:57:12.382945Z"
    }
   },
   "outputs": [],
   "source": [
    "import os\n",
    "import pandas as pd\n",
    "\n",
    "\n",
    "folder_path = 'death_rates/Mx_1x1/'\n",
    "file_names = os.listdir(folder_path)\n",
    "\n",
    "all_data = []\n",
    "\n",
    "# Loop through all files in the folder\n",
    "for file_name in file_names:\n",
    "    file_path = os.path.join(folder_path, file_name)\n",
    "    \n",
    "    with open(file_path, 'r') as file:\n",
    "        # get country name in the first line\n",
    "        country = file.readline().strip().split(',')[0]\n",
    "        \n",
    "    # skip first 3 rows to remove the unuseful information\n",
    "    df = pd.read_csv(file_path, delim_whitespace=True, skiprows=3, \n",
    "                     names=['Year', 'Age', 'Female', 'Male', 'Total'])\n",
    "    # Convert the string of the total column to a number\n",
    "    df['Total'] = pd.to_numeric(df['Total'], errors='coerce')\n",
    "    df.dropna(subset=['Total'], inplace=True)\n",
    "    \n",
    "    # get average death rate for each year\n",
    "    avg_death_rate = df.groupby('Year')['Total'].mean().reset_index()\n",
    "    # add country column\n",
    "    avg_death_rate['Country'] = country\n",
    "    # final file header\n",
    "    avg_death_rate.columns = ['Year', 'Death_Rate', 'Country']\n",
    "    all_data.extend(avg_death_rate.to_dict('records'))\n",
    "\n",
    "# to DataFrame\n",
    "data = pd.DataFrame(all_data)\n",
    "# sort by year\n",
    "data.sort_values(by=['Year'], inplace=True)\n",
    "# save to csv\n",
    "data.to_csv('clean_data.csv', index=False)"
   ]
  },
  {
   "cell_type": "code",
   "outputs": [],
   "source": [],
   "metadata": {
    "collapsed": false
   },
   "id": "e2dcbc1dffd0b01c"
  }
 ],
 "metadata": {
  "kernelspec": {
   "display_name": "Python 3",
   "language": "python",
   "name": "python3"
  },
  "language_info": {
   "codemirror_mode": {
    "name": "ipython",
    "version": 2
   },
   "file_extension": ".py",
   "mimetype": "text/x-python",
   "name": "python",
   "nbconvert_exporter": "python",
   "pygments_lexer": "ipython2",
   "version": "2.7.6"
  }
 },
 "nbformat": 4,
 "nbformat_minor": 5
}
